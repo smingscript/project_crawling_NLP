{
 "cells": [
  {
   "cell_type": "code",
   "execution_count": 1,
   "metadata": {
    "collapsed": true
   },
   "outputs": [],
   "source": [
    "import pandas as pd"
   ]
  },
  {
   "cell_type": "code",
   "execution_count": 3,
   "metadata": {
    "collapsed": true
   },
   "outputs": [],
   "source": [
    "data = pd.read_csv('text/article.csv', usecols=['pic_num', 'article'], engine='python', encoding='euc-kr')"
   ]
  },
  {
   "cell_type": "code",
   "execution_count": 4,
   "metadata": {
    "collapsed": true
   },
   "outputs": [],
   "source": [
    "def read_article(filepath):\n",
    "    '''\n",
    "    helper function to read in the file and yield each line at a time.\n",
    "    '''\n",
    "    with open(filepath) as f:\n",
    "        for article in f:\n",
    "            yield article"
   ]
  },
  {
   "cell_type": "markdown",
   "metadata": {},
   "source": [
    "#### 텍스트의 열마다 카데고리 명을 가진 텍스트 파일을 만든다\n",
    "1. word2vec에서 관련성을 높일 수 있다.\n",
    "2. 만약에 본문에서 텍스트가 없던 경우 빈 칸을 채워줄 수 있다."
   ]
  },
  {
   "cell_type": "code",
   "execution_count": 5,
   "metadata": {
    "scrolled": true
   },
   "outputs": [
    {
     "name": "stdout",
     "output_type": "stream",
     "text": [
      "bathroom\n",
      "bedroom\n",
      "kitchen\n",
      "livingroom\n",
      "Wall time: 77.1 ms\n"
     ]
    }
   ],
   "source": [
    "%%time\n",
    "\n",
    "categories = ['bathroom', 'bedroom', 'kitchen', 'livingroom']\n",
    "category_text = {'bathroom':'욕실', 'bedroom':'침실', 'kitchen':'주방', 'livingroom':'거실'}\n",
    "by_category_path = 'text/by_category/'\n",
    "article_categorized_path = 'text/article_categorized.txt'\n",
    "\n",
    "with open(article_categorized_path, 'w') as fw:\n",
    "    for category in categories:\n",
    "        print(category)\n",
    "        with open(by_category_path + category + '.csv', 'r') as fr:\n",
    "            for content in data.article.values:\n",
    "                content = content.split('\\n')[0]\n",
    "                if 'pic_num,article' in content:\n",
    "                    continue\n",
    "                if not content:\n",
    "                    break\n",
    "\n",
    "                if category_text[category] not in content:\n",
    "                    \n",
    "                    categorized_text = content + ' ' + category_text[category]\n",
    "                else:\n",
    "                    categorized_text = content\n",
    "                #한 파일에 다 쓴다    \n",
    "                fw.write(categorized_text + '\\n')"
   ]
  },
  {
   "cell_type": "code",
   "execution_count": 6,
   "metadata": {},
   "outputs": [
    {
     "name": "stdout",
     "output_type": "stream",
     "text": [
      "KoNLPy downloader\n",
      "[konlpy_data] Downloading package 'komoran-dic'...\n",
      "[konlpy_data] Download finished\n",
      "[konlpy_data] Unzipping file C:\\Users\\smingdisco\\AppData\\Roaming\\konlpy_data\\dictionaries/komoran-dic.zip\n",
      "Done\n"
     ]
    }
   ],
   "source": [
    "import konlpy\n",
    "import nltk\n",
    "import json\n",
    "\n",
    "konlpy.download('komoran-dic')"
   ]
  },
  {
   "cell_type": "code",
   "execution_count": 7,
   "metadata": {
    "collapsed": true
   },
   "outputs": [],
   "source": [
    "filepath = 'text/article_categorized.txt'\n",
    "\n",
    "with open(filepath, 'r') as f:\n",
    "    article = f.read()"
   ]
  },
  {
   "cell_type": "code",
   "execution_count": 10,
   "metadata": {},
   "outputs": [
    {
     "name": "stdout",
     "output_type": "stream",
     "text": [
      "\n",
      "# Writing Noun Adjective only\n",
      "Wall time: 7min 40s\n"
     ]
    }
   ],
   "source": [
    "%%time\n",
    "\n",
    "json_data = open('text/ko.json', 'rt', encoding='UTF8').read()\n",
    "stop_words = json.loads(json_data)\n",
    "words = konlpy.tag.Twitter().pos(article)\n",
    "parser = nltk.RegexpParser(\"NP: {<Adjective>*<Noun>*}\")\n",
    "chunks = parser.parse(words)\n",
    "\n",
    "print(\"\\n# Writing Noun Adjective only\")\n",
    "noun_adjective_only_file_path = 'text/noun_adj_article.txt'\n",
    "\n",
    "with open(noun_adjective_only_file_path, 'w') as f:\n",
    "    for subtree in chunks.subtrees():\n",
    "        if subtree.label()=='NP':\n",
    "            parse = ' '.join((e[0] for e in list(subtree) if e not in stop_words and len(e) > 1 ))\n",
    "            f.write(parse + ' ')"
   ]
  },
  {
   "cell_type": "code",
   "execution_count": 11,
   "metadata": {
    "collapsed": true
   },
   "outputs": [],
   "source": [
    "import codecs\n",
    "BLOCKSIZE = 1048576 # or some other, desired size in bytes\n",
    "sourceFileName = \"text/noun_adj_article.txt\"\n",
    "targetFileName = \"text/noun_adj_article_utf.txt\"\n",
    "with codecs.open(sourceFileName, \"r\") as sourceFile:\n",
    "    with codecs.open(targetFileName, \"w\", \"utf-8\") as targetFile:\n",
    "        while True:\n",
    "            contents = sourceFile.read(BLOCKSIZE)\n",
    "            if not contents:\n",
    "                break\n",
    "            targetFile.write(contents)"
   ]
  },
  {
   "cell_type": "code",
   "execution_count": 12,
   "metadata": {},
   "outputs": [
    {
     "name": "stderr",
     "output_type": "stream",
     "text": [
      "c:\\Python36\\lib\\site-packages\\gensim\\utils.py:860: UserWarning: detected Windows; aliasing chunkize to chunkize_serial\n",
      "  warnings.warn(\"detected Windows; aliasing chunkize to chunkize_serial\")\n",
      "c:\\Python36\\lib\\site-packages\\gensim\\models\\phrases.py:274: UserWarning: For a faster implementation, use the gensim.models.phrases.Phraser class\n",
      "  warnings.warn(\"For a faster implementation, use the gensim.models.phrases.Phraser class\")\n"
     ]
    },
    {
     "name": "stdout",
     "output_type": "stream",
     "text": [
      "Wall time: 3.99 s\n"
     ]
    }
   ],
   "source": [
    "%%time\n",
    "sentences_normalized_filepath = 'text/noun_adj_article_utf.txt'\n",
    "bigram_model_filepath = 'text/bigram_model'\n",
    "sentences_for_word2vec_filepath = 'text/sentences_for_word2vec.txt'\n",
    "\n",
    "# gensim's LineSentence provies a convenient way to iterate over lines in a text file.\n",
    "# it outputs one line at a time, so you can save memory space. it works well with other gensim components.\n",
    "from gensim.models.word2vec import LineSentence\n",
    "from gensim.models import Phrases\n",
    "# we take normalized sentences as unigram sentences, which means we didn't apply any phrase modeling yet.\n",
    "unigram_sentences = LineSentence(sentences_normalized_filepath)\n",
    "\n",
    "bigram_model = Phrases(unigram_sentences)\n",
    "bigram_model.save(bigram_model_filepath)\n",
    "\n",
    "with open(sentences_for_word2vec_filepath, 'w') as f:\n",
    "    for unigram_sentence in unigram_sentences:\n",
    "        bigram_sentence = bigram_model[unigram_sentence]\n",
    "        f.write(' '.join(bigram_sentence) + '\\n')"
   ]
  },
  {
   "cell_type": "markdown",
   "metadata": {},
   "source": [
    "### Word vector modeling with Word2Vec"
   ]
  },
  {
   "cell_type": "code",
   "execution_count": 13,
   "metadata": {
    "collapsed": true
   },
   "outputs": [],
   "source": [
    "from gensim.models import Word2Vec"
   ]
  },
  {
   "cell_type": "code",
   "execution_count": 14,
   "metadata": {
    "collapsed": true
   },
   "outputs": [],
   "source": [
    "import codecs\n",
    "BLOCKSIZE = 1048576 # or some other, desired size in bytes\n",
    "sourceFileName = 'text/sentences_for_word2vec.txt'\n",
    "targetFileName = 'text/sentences_for_word2vec_utf.txt'\n",
    "with codecs.open(sourceFileName, \"r\") as sourceFile:\n",
    "    with codecs.open(targetFileName, \"w\", \"utf-8\") as targetFile:\n",
    "        while True:\n",
    "            contents = sourceFile.read(BLOCKSIZE)\n",
    "            if not contents:\n",
    "                break\n",
    "            targetFile.write(contents)"
   ]
  },
  {
   "cell_type": "code",
   "execution_count": 15,
   "metadata": {},
   "outputs": [
    {
     "name": "stdout",
     "output_type": "stream",
     "text": [
      "Wall time: 8.99 s\n"
     ]
    }
   ],
   "source": [
    "%%time\n",
    "\n",
    "sentences_for_word2vec_filepath = 'text/sentences_for_word2vec_utf.txt'\n",
    "word2vec_filepath = 'text/word2vec_model'\n",
    "\n",
    "sentences_for_word2vec = LineSentence(sentences_for_word2vec_filepath)\n",
    "\n",
    "# initiate the model with 100 dimensions of vectors, 5 words to look before and after each focus word, etc.\n",
    "# perform another 10 epochs of training\n",
    "#embedding_model  = Word2Vec(sentences_for_word2vec, size=100, window=5, min_count=5, workers = 4, sg=1)\n",
    "\n",
    "embedding_model  = Word2Vec(size=100, window=7, min_count=60, workers=4, sg=1, iter=100)\n",
    "embedding_model.build_vocab(sentences_for_word2vec)\n",
    "embedding_model.train(sentences_for_word2vec, epochs=embedding_model.iter, total_examples=embedding_model.corpus_count)\n",
    "    \n",
    "embedding_model.save(word2vec_filepath)\n"
   ]
  },
  {
   "cell_type": "code",
   "execution_count": 16,
   "metadata": {
    "collapsed": true
   },
   "outputs": [],
   "source": [
    "#unload unnecessary memory\n",
    "embedding_model.init_sims(replace=True)"
   ]
  },
  {
   "cell_type": "code",
   "execution_count": 17,
   "metadata": {
    "scrolled": false
   },
   "outputs": [
    {
     "name": "stdout",
     "output_type": "stream",
     "text": [
      "[('주방', 0.7823333740234375), ('공간', 0.5755470991134644), ('디자인', 0.5070724487304688), ('침실', 0.4837484061717987), ('분위기', 0.4634815454483032), ('조명', 0.3515093922615051), ('아이디어', 0.3448489308357239), ('거실', 0.33103805780410767), ('있는', 0.3224629759788513), ('타일', 0.31537044048309326), ('화이트', 0.28660720586776733), ('가구', 0.2810284197330475), ('인테리어', 0.27817273139953613), ('수납', 0.2742149233818054), ('벽', 0.24577267467975616), ('색상', 0.24403813481330872), ('모던', 0.240724578499794), ('건', 0.23260971903800964), ('욕조', 0.23255866765975952), ('바닥', 0.23086263239383698), ('작은', 0.22819387912750244), ('거울', 0.22213870286941528), ('나무', 0.22101475298404694), ('같은', 0.20993520319461823), ('느낌', 0.20883585512638092), ('개성', 0.20637747645378113), ('고급스러운', 0.1933993697166443), ('파티션', 0.1905672252178192), ('스타일', 0.19001181423664093), ('재질', 0.18473412096500397), ('과감', 0.18002989888191223), ('유리', 0.179835706949234), ('세련된', 0.17974317073822021), ('컬러', 0.17939430475234985), ('수_있는', 0.17835509777069092), ('빛', 0.17663758993148804), ('색', 0.1761811524629593), ('톤', 0.1761426329612732), ('자연스러운', 0.1745423823595047), ('모자이크_타일', 0.1745259165763855), ('현대', 0.17207488417625427), ('감', 0.1711570769548416), ('완벽한', 0.17086097598075867), ('넓은', 0.17047260701656342), ('편안한', 0.169300377368927), ('개방', 0.16905823349952698), ('포인트', 0.16711397469043732), ('감각', 0.1659659743309021), ('테라스', 0.16542094945907593), ('자연', 0.165003702044487)]\n"
     ]
    }
   ],
   "source": [
    "print(embedding_model.most_similar(positive=[\"욕실\"], topn=50))"
   ]
  },
  {
   "cell_type": "code",
   "execution_count": 18,
   "metadata": {
    "scrolled": false
   },
   "outputs": [
    {
     "name": "stdout",
     "output_type": "stream",
     "text": [
      "[('욕실', 0.7823333740234375), ('공간', 0.5823670029640198), ('침실', 0.5461084246635437), ('디자인', 0.4935576319694519), ('거실', 0.45514625310897827), ('조명', 0.3707321286201477), ('분위기', 0.36931049823760986), ('아이디어', 0.31567156314849854), ('가구', 0.3110201954841614), ('수납', 0.310720294713974), ('있는', 0.281094491481781), ('인테리어', 0.261688232421875), ('타일', 0.25824031233787537), ('화이트', 0.23392754793167114), ('벽', 0.22018681466579437), ('기능', 0.20708784461021423), ('것', 0.20648670196533203), ('컬러', 0.19701643288135529), ('모던', 0.18771231174468994), ('스타일', 0.17789939045906067), ('및_분위기', 0.17472344636917114), ('아일랜드', 0.17223945260047913), ('흰색', 0.16664552688598633), ('테라스', 0.16511251032352448), ('따뜻한', 0.16439273953437805), ('개성', 0.16330109536647797), ('목재', 0.16326820850372314), ('나무', 0.1614684909582138), ('감', 0.15774337947368622), ('작은', 0.1556023806333542), ('천장', 0.15243366360664368), ('포인트', 0.1511402428150177), ('깔끔한', 0.15101829171180725), ('감각', 0.14984872937202454), ('자', 0.14885066449642181), ('미니_멀', 0.148843914270401), ('리스트', 0.14724507927894592), ('레이아웃', 0.14562149345874786), ('패턴', 0.1412353813648224), ('조리', 0.14078709483146667), ('실내', 0.13910561800003052), ('선반', 0.13687145709991455), ('평', 0.1354861855506897), ('파티션', 0.13411059975624084), ('자_동선', 0.13403718173503876), ('거울', 0.13376326858997345), ('오픈', 0.13360026478767395), ('색상', 0.13346146047115326), ('더', 0.1329195201396942), ('창문', 0.13283969461917877)]\n"
     ]
    }
   ],
   "source": [
    "print(embedding_model.most_similar(positive=[\"주방\"], topn=50))"
   ]
  },
  {
   "cell_type": "code",
   "execution_count": 19,
   "metadata": {},
   "outputs": [
    {
     "data": {
      "text/html": [
       "<div>\n",
       "<style>\n",
       "    .dataframe thead tr:only-child th {\n",
       "        text-align: right;\n",
       "    }\n",
       "\n",
       "    .dataframe thead th {\n",
       "        text-align: left;\n",
       "    }\n",
       "\n",
       "    .dataframe tbody tr th {\n",
       "        vertical-align: top;\n",
       "    }\n",
       "</style>\n",
       "<table border=\"1\" class=\"dataframe\">\n",
       "  <thead>\n",
       "    <tr style=\"text-align: right;\">\n",
       "      <th></th>\n",
       "      <th>0</th>\n",
       "      <th>1</th>\n",
       "      <th>2</th>\n",
       "      <th>3</th>\n",
       "      <th>4</th>\n",
       "      <th>5</th>\n",
       "      <th>6</th>\n",
       "      <th>7</th>\n",
       "      <th>8</th>\n",
       "      <th>9</th>\n",
       "      <th>...</th>\n",
       "      <th>90</th>\n",
       "      <th>91</th>\n",
       "      <th>92</th>\n",
       "      <th>93</th>\n",
       "      <th>94</th>\n",
       "      <th>95</th>\n",
       "      <th>96</th>\n",
       "      <th>97</th>\n",
       "      <th>98</th>\n",
       "      <th>99</th>\n",
       "    </tr>\n",
       "  </thead>\n",
       "  <tbody>\n",
       "    <tr>\n",
       "      <th>주방</th>\n",
       "      <td>0.063515</td>\n",
       "      <td>0.035828</td>\n",
       "      <td>-0.163579</td>\n",
       "      <td>0.072392</td>\n",
       "      <td>0.127996</td>\n",
       "      <td>0.045399</td>\n",
       "      <td>-0.205755</td>\n",
       "      <td>0.221592</td>\n",
       "      <td>0.117537</td>\n",
       "      <td>0.020764</td>\n",
       "      <td>...</td>\n",
       "      <td>0.005597</td>\n",
       "      <td>0.036799</td>\n",
       "      <td>0.131786</td>\n",
       "      <td>-0.185329</td>\n",
       "      <td>0.066229</td>\n",
       "      <td>0.027013</td>\n",
       "      <td>-0.077444</td>\n",
       "      <td>0.057848</td>\n",
       "      <td>-0.009024</td>\n",
       "      <td>-0.177999</td>\n",
       "    </tr>\n",
       "    <tr>\n",
       "      <th>욕실</th>\n",
       "      <td>0.056751</td>\n",
       "      <td>-0.001797</td>\n",
       "      <td>-0.136228</td>\n",
       "      <td>-0.055955</td>\n",
       "      <td>0.027535</td>\n",
       "      <td>0.035236</td>\n",
       "      <td>-0.185520</td>\n",
       "      <td>0.207014</td>\n",
       "      <td>0.136846</td>\n",
       "      <td>0.058650</td>\n",
       "      <td>...</td>\n",
       "      <td>0.016614</td>\n",
       "      <td>-0.087505</td>\n",
       "      <td>0.102614</td>\n",
       "      <td>-0.065265</td>\n",
       "      <td>0.036491</td>\n",
       "      <td>0.011621</td>\n",
       "      <td>0.003837</td>\n",
       "      <td>0.056054</td>\n",
       "      <td>-0.025624</td>\n",
       "      <td>-0.058417</td>\n",
       "    </tr>\n",
       "    <tr>\n",
       "      <th>침실</th>\n",
       "      <td>0.236241</td>\n",
       "      <td>0.035015</td>\n",
       "      <td>-0.240540</td>\n",
       "      <td>0.010719</td>\n",
       "      <td>-0.016849</td>\n",
       "      <td>0.113503</td>\n",
       "      <td>0.039309</td>\n",
       "      <td>0.208460</td>\n",
       "      <td>0.205040</td>\n",
       "      <td>-0.107345</td>\n",
       "      <td>...</td>\n",
       "      <td>-0.040094</td>\n",
       "      <td>-0.051208</td>\n",
       "      <td>0.080476</td>\n",
       "      <td>-0.285389</td>\n",
       "      <td>-0.097936</td>\n",
       "      <td>0.116151</td>\n",
       "      <td>-0.018927</td>\n",
       "      <td>0.171645</td>\n",
       "      <td>0.010793</td>\n",
       "      <td>-0.153641</td>\n",
       "    </tr>\n",
       "    <tr>\n",
       "      <th>거실</th>\n",
       "      <td>0.179722</td>\n",
       "      <td>0.028995</td>\n",
       "      <td>-0.131144</td>\n",
       "      <td>-0.043775</td>\n",
       "      <td>0.005347</td>\n",
       "      <td>0.049651</td>\n",
       "      <td>0.039870</td>\n",
       "      <td>0.175661</td>\n",
       "      <td>0.132975</td>\n",
       "      <td>-0.023586</td>\n",
       "      <td>...</td>\n",
       "      <td>-0.036328</td>\n",
       "      <td>-0.048867</td>\n",
       "      <td>0.165580</td>\n",
       "      <td>-0.290612</td>\n",
       "      <td>0.033515</td>\n",
       "      <td>0.032168</td>\n",
       "      <td>0.034656</td>\n",
       "      <td>0.127358</td>\n",
       "      <td>0.032019</td>\n",
       "      <td>-0.069061</td>\n",
       "    </tr>\n",
       "    <tr>\n",
       "      <th>공간</th>\n",
       "      <td>0.117706</td>\n",
       "      <td>-0.001270</td>\n",
       "      <td>-0.003223</td>\n",
       "      <td>0.056807</td>\n",
       "      <td>0.060596</td>\n",
       "      <td>0.117467</td>\n",
       "      <td>-0.051614</td>\n",
       "      <td>0.224069</td>\n",
       "      <td>0.083199</td>\n",
       "      <td>0.102337</td>\n",
       "      <td>...</td>\n",
       "      <td>-0.056284</td>\n",
       "      <td>-0.113975</td>\n",
       "      <td>0.179174</td>\n",
       "      <td>-0.260941</td>\n",
       "      <td>-0.015147</td>\n",
       "      <td>0.173605</td>\n",
       "      <td>0.074017</td>\n",
       "      <td>0.082512</td>\n",
       "      <td>0.095347</td>\n",
       "      <td>-0.184487</td>\n",
       "    </tr>\n",
       "    <tr>\n",
       "      <th>디자인</th>\n",
       "      <td>0.046204</td>\n",
       "      <td>0.076524</td>\n",
       "      <td>-0.105821</td>\n",
       "      <td>0.075140</td>\n",
       "      <td>0.003740</td>\n",
       "      <td>0.063069</td>\n",
       "      <td>0.134921</td>\n",
       "      <td>-0.003537</td>\n",
       "      <td>0.131503</td>\n",
       "      <td>0.096796</td>\n",
       "      <td>...</td>\n",
       "      <td>-0.046100</td>\n",
       "      <td>-0.088580</td>\n",
       "      <td>0.201027</td>\n",
       "      <td>-0.222572</td>\n",
       "      <td>-0.049944</td>\n",
       "      <td>0.054295</td>\n",
       "      <td>0.010550</td>\n",
       "      <td>-0.066318</td>\n",
       "      <td>0.015942</td>\n",
       "      <td>-0.222374</td>\n",
       "    </tr>\n",
       "    <tr>\n",
       "      <th>인테리어</th>\n",
       "      <td>-0.069292</td>\n",
       "      <td>-0.032781</td>\n",
       "      <td>-0.258591</td>\n",
       "      <td>-0.029989</td>\n",
       "      <td>-0.043954</td>\n",
       "      <td>0.055436</td>\n",
       "      <td>0.106581</td>\n",
       "      <td>-0.002393</td>\n",
       "      <td>0.087048</td>\n",
       "      <td>0.104503</td>\n",
       "      <td>...</td>\n",
       "      <td>-0.108550</td>\n",
       "      <td>-0.184765</td>\n",
       "      <td>-0.080518</td>\n",
       "      <td>-0.217894</td>\n",
       "      <td>-0.152116</td>\n",
       "      <td>-0.019068</td>\n",
       "      <td>-0.045112</td>\n",
       "      <td>-0.073587</td>\n",
       "      <td>-0.008797</td>\n",
       "      <td>-0.117964</td>\n",
       "    </tr>\n",
       "    <tr>\n",
       "      <th>분위기</th>\n",
       "      <td>-0.109292</td>\n",
       "      <td>0.075498</td>\n",
       "      <td>-0.300119</td>\n",
       "      <td>-0.078531</td>\n",
       "      <td>0.088136</td>\n",
       "      <td>0.087400</td>\n",
       "      <td>-0.005362</td>\n",
       "      <td>0.217306</td>\n",
       "      <td>0.050840</td>\n",
       "      <td>0.017885</td>\n",
       "      <td>...</td>\n",
       "      <td>-0.049640</td>\n",
       "      <td>-0.017742</td>\n",
       "      <td>0.010883</td>\n",
       "      <td>-0.009842</td>\n",
       "      <td>0.032099</td>\n",
       "      <td>0.093488</td>\n",
       "      <td>-0.020878</td>\n",
       "      <td>0.092507</td>\n",
       "      <td>-0.028831</td>\n",
       "      <td>0.008885</td>\n",
       "    </tr>\n",
       "    <tr>\n",
       "      <th>수납</th>\n",
       "      <td>0.100399</td>\n",
       "      <td>0.026037</td>\n",
       "      <td>-0.106327</td>\n",
       "      <td>-0.039490</td>\n",
       "      <td>-0.135616</td>\n",
       "      <td>0.072390</td>\n",
       "      <td>0.013723</td>\n",
       "      <td>0.181978</td>\n",
       "      <td>0.023805</td>\n",
       "      <td>-0.031632</td>\n",
       "      <td>...</td>\n",
       "      <td>-0.077501</td>\n",
       "      <td>-0.109568</td>\n",
       "      <td>0.285844</td>\n",
       "      <td>-0.034071</td>\n",
       "      <td>0.092282</td>\n",
       "      <td>0.008141</td>\n",
       "      <td>-0.194086</td>\n",
       "      <td>-0.022568</td>\n",
       "      <td>-0.006358</td>\n",
       "      <td>-0.122346</td>\n",
       "    </tr>\n",
       "    <tr>\n",
       "      <th>스타일</th>\n",
       "      <td>0.034095</td>\n",
       "      <td>0.012481</td>\n",
       "      <td>-0.197035</td>\n",
       "      <td>-0.179153</td>\n",
       "      <td>0.131450</td>\n",
       "      <td>0.149684</td>\n",
       "      <td>-0.054042</td>\n",
       "      <td>0.079016</td>\n",
       "      <td>-0.035133</td>\n",
       "      <td>-0.064780</td>\n",
       "      <td>...</td>\n",
       "      <td>0.108111</td>\n",
       "      <td>0.129002</td>\n",
       "      <td>0.035491</td>\n",
       "      <td>0.019178</td>\n",
       "      <td>-0.047771</td>\n",
       "      <td>0.147068</td>\n",
       "      <td>-0.041609</td>\n",
       "      <td>-0.076965</td>\n",
       "      <td>-0.045102</td>\n",
       "      <td>-0.125439</td>\n",
       "    </tr>\n",
       "  </tbody>\n",
       "</table>\n",
       "<p>10 rows × 100 columns</p>\n",
       "</div>"
      ],
      "text/plain": [
       "            0         1         2         3         4         5         6   \\\n",
       "주방    0.063515  0.035828 -0.163579  0.072392  0.127996  0.045399 -0.205755   \n",
       "욕실    0.056751 -0.001797 -0.136228 -0.055955  0.027535  0.035236 -0.185520   \n",
       "침실    0.236241  0.035015 -0.240540  0.010719 -0.016849  0.113503  0.039309   \n",
       "거실    0.179722  0.028995 -0.131144 -0.043775  0.005347  0.049651  0.039870   \n",
       "공간    0.117706 -0.001270 -0.003223  0.056807  0.060596  0.117467 -0.051614   \n",
       "디자인   0.046204  0.076524 -0.105821  0.075140  0.003740  0.063069  0.134921   \n",
       "인테리어 -0.069292 -0.032781 -0.258591 -0.029989 -0.043954  0.055436  0.106581   \n",
       "분위기  -0.109292  0.075498 -0.300119 -0.078531  0.088136  0.087400 -0.005362   \n",
       "수납    0.100399  0.026037 -0.106327 -0.039490 -0.135616  0.072390  0.013723   \n",
       "스타일   0.034095  0.012481 -0.197035 -0.179153  0.131450  0.149684 -0.054042   \n",
       "\n",
       "            7         8         9     ...           90        91        92  \\\n",
       "주방    0.221592  0.117537  0.020764    ...     0.005597  0.036799  0.131786   \n",
       "욕실    0.207014  0.136846  0.058650    ...     0.016614 -0.087505  0.102614   \n",
       "침실    0.208460  0.205040 -0.107345    ...    -0.040094 -0.051208  0.080476   \n",
       "거실    0.175661  0.132975 -0.023586    ...    -0.036328 -0.048867  0.165580   \n",
       "공간    0.224069  0.083199  0.102337    ...    -0.056284 -0.113975  0.179174   \n",
       "디자인  -0.003537  0.131503  0.096796    ...    -0.046100 -0.088580  0.201027   \n",
       "인테리어 -0.002393  0.087048  0.104503    ...    -0.108550 -0.184765 -0.080518   \n",
       "분위기   0.217306  0.050840  0.017885    ...    -0.049640 -0.017742  0.010883   \n",
       "수납    0.181978  0.023805 -0.031632    ...    -0.077501 -0.109568  0.285844   \n",
       "스타일   0.079016 -0.035133 -0.064780    ...     0.108111  0.129002  0.035491   \n",
       "\n",
       "            93        94        95        96        97        98        99  \n",
       "주방   -0.185329  0.066229  0.027013 -0.077444  0.057848 -0.009024 -0.177999  \n",
       "욕실   -0.065265  0.036491  0.011621  0.003837  0.056054 -0.025624 -0.058417  \n",
       "침실   -0.285389 -0.097936  0.116151 -0.018927  0.171645  0.010793 -0.153641  \n",
       "거실   -0.290612  0.033515  0.032168  0.034656  0.127358  0.032019 -0.069061  \n",
       "공간   -0.260941 -0.015147  0.173605  0.074017  0.082512  0.095347 -0.184487  \n",
       "디자인  -0.222572 -0.049944  0.054295  0.010550 -0.066318  0.015942 -0.222374  \n",
       "인테리어 -0.217894 -0.152116 -0.019068 -0.045112 -0.073587 -0.008797 -0.117964  \n",
       "분위기  -0.009842  0.032099  0.093488 -0.020878  0.092507 -0.028831  0.008885  \n",
       "수납   -0.034071  0.092282  0.008141 -0.194086 -0.022568 -0.006358 -0.122346  \n",
       "스타일   0.019178 -0.047771  0.147068 -0.041609 -0.076965 -0.045102 -0.125439  \n",
       "\n",
       "[10 rows x 100 columns]"
      ]
     },
     "execution_count": 19,
     "metadata": {},
     "output_type": "execute_result"
    }
   ],
   "source": [
    "num_words = 2000\n",
    "word_embeddings = pd.DataFrame(embedding_model.wv.syn0[:num_words, :], index=embedding_model.wv.index2word[:num_words])\n",
    "word_embeddings.head(10)"
   ]
  }
 ],
 "metadata": {
  "kernelspec": {
   "display_name": "Python 3",
   "language": "python",
   "name": "python3"
  },
  "language_info": {
   "codemirror_mode": {
    "name": "ipython",
    "version": 3
   },
   "file_extension": ".py",
   "mimetype": "text/x-python",
   "name": "python",
   "nbconvert_exporter": "python",
   "pygments_lexer": "ipython3",
   "version": "3.6.4"
  }
 },
 "nbformat": 4,
 "nbformat_minor": 2
}
