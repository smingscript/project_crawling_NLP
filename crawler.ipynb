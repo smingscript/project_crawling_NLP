{
 "cells": [
  {
   "cell_type": "code",
   "execution_count": 1,
   "metadata": {
    "collapsed": true
   },
   "outputs": [],
   "source": [
    "import os\n",
    "import io\n",
    "import re\n",
    "import time\n",
    "import requests\n",
    "import threading\n",
    "import pandas as pd\n",
    "from urllib import request, error\n",
    "from PIL import Image\n",
    "from os.path import basename\n",
    "from bs4 import BeautifulSoup\n",
    "from collections import OrderedDict"
   ]
  },
  {
   "cell_type": "markdown",
   "metadata": {},
   "source": [
    "## Class implementation\n",
    "- **Label**: Crawler for article urls(total 12 pages) we need by each label.\n",
    "     - Labels we need: each room for interior('living-room', 'bedroom', 'bathroom', 'kitchen')\n",
    "- **Resource**: Crawler for image urls and article text we need from total 120 articles per label.\n",
    "- **Convert**: Converter for image format(webp -> jpeg) and raw strings to dataframe."
   ]
  },
  {
   "cell_type": "code",
   "execution_count": 2,
   "metadata": {
    "collapsed": true
   },
   "outputs": [],
   "source": [
    "class Labels():\n",
    "    def __init__(self, label):\n",
    "        self.label = label\n",
    "        #url attributes\n",
    "        self.page_url = 'http://www.homify.co.kr/magazine/{0}'.format(self.label)\n",
    "        self.last = 14\n",
    "        self.urls = []\n",
    "    \n",
    "    \n",
    "    def get_page_urls(self):\n",
    "        for idx in range(self.last):\n",
    "            page = '{0}?page={1}'.format(self.page_url, idx+1)\n",
    "            res = requests.get(page)\n",
    "            soup = BeautifulSoup(res.content, 'html5lib')\n",
    "            articles = soup.select('div.ideabook--items a.link')\n",
    "            for article in articles:\n",
    "                link = article['href']\n",
    "                self.urls.append('http://www.homify.co.kr{0}'.format(link))\n",
    "                \n",
    "        return self.urls\n",
    "  "
   ]
  },
  {
   "cell_type": "code",
   "execution_count": 3,
   "metadata": {
    "collapsed": true
   },
   "outputs": [],
   "source": [
    "class Resource():  \n",
    "    def __init__(self, links):\n",
    "        self.links = links\n",
    "        #image urls for train which have paired texts\n",
    "        self.train_src = []\n",
    "        #image urls for test which doesn't have paired texts\n",
    "        self.test_src = []\n",
    "        #paired texts for each images\n",
    "        self.articles = []\n",
    "    \n",
    "    def imgUrl_generator(self, url, src_type):\n",
    "        height = url.get('height')\n",
    "        width = url.get('width')\n",
    "        srcUrl_tail= re.search(r'/v.*$', url.get('src')).group()\n",
    "\n",
    "        if height > width:\n",
    "            srcUrl = 'https://images.homify.com/c_fill,f_auto,q_auto:eco,{0}_{1}{2}'.format('w', 224, srcUrl_tail)\n",
    "            src_type.append(srcUrl)\n",
    "        else:\n",
    "            srcUrl = 'https://images.homify.com/c_fill,f_auto,q_auto:eco,{0}_{1}{2}'.format('h', 224, srcUrl_tail)\n",
    "            src_type.append(srcUrl)\n",
    "    \n",
    "    \n",
    "    #get image url and text of each paragraph\n",
    "    def get_imgUrl_text(self):\n",
    "        for link in self.links:\n",
    "            try:\n",
    "                parent_res = requests.get(link)\n",
    "                parent_soup = BeautifulSoup(parent_res.content, 'html5lib', from_encoding='utf-8')\n",
    "                parent_tags = parent_soup.select('div.ideabook--item.ideabook-photo')\n",
    "                \n",
    "                #crawler for titles\n",
    "                for tag in parent_tags:\n",
    "                    #p_parent = tag.select('div.text-container.text.-mt-line-')\n",
    "                    h2_text = tag.select('h2.text-container.subheading.-mt-line-.-centered-')\n",
    "\n",
    "                    for h2 in h2_text:\n",
    "                        h2 = h2.text.strip(' \\t\\n')\n",
    "                        #the case that doesn't have paired texts\n",
    "                        if not h2:\n",
    "                            image_urls = tag.select('div.photo img.js-photo-link')\n",
    "                            for url in image_urls:\n",
    "                                if not url:\n",
    "                                    continue\n",
    "\n",
    "                                self.imgUrl_generator(url, self.test_src)\n",
    "                            continue\n",
    "                        else:\n",
    "                            image_urls = tag.select('div.photo img.js-photo-link')\n",
    "\n",
    "                            for url in image_urls:\n",
    "                                #some case that there might be absent of images\n",
    "                                if not url:\n",
    "                                    continue\n",
    "\n",
    "                                #the case we want!\n",
    "                                else:            \n",
    "                                    self.articles.append(h2)\n",
    "                                    self.imgUrl_generator(url, self.train_src)\n",
    "            \n",
    "            except requests.exceptions.ConnectionError as e:\n",
    "                print(e)\n",
    "                continue\n",
    "            finally:\n",
    "                time.sleep(0.1)"
   ]
  },
  {
   "cell_type": "code",
   "execution_count": 4,
   "metadata": {
    "collapsed": true
   },
   "outputs": [],
   "source": [
    "class Convert():\n",
    "    def __init__(self, label, srcUrl, srcType, articles=None):\n",
    "        #attributes for saving images\n",
    "        self.srcUrl = srcUrl\n",
    "        self.srcType = srcType\n",
    "        self.labels = {'bathroom':0, 'bedroom':1, 'kitchen':2, 'livingroom':3}\n",
    "        self.label = label    \n",
    "        #attributes for article texts\n",
    "        self.articles = articles\n",
    "        if articles:\n",
    "            self.df = pd.DataFrame()\n",
    "        \n",
    "    #에러가 발생하는 부분에서는 lock을 걸지 않아서 소켓에 에러가 발생했다.\n",
    "    #image download webp and convert to jpeg\n",
    "    def dl_cvt_Image(self, url, index):        \n",
    "        with request.urlopen(url) as run_url:\n",
    "            f = io.BytesIO(run_url.read())\n",
    "            #folder name by train or test / label by room type / index\n",
    "            image_index = '{}_{}'.format(self.labels[self.label], index)\n",
    "            Image.open(f).convert('RGB').save('images_{0}/{1}/{2}.jpg'.format(self.srcType, self.label, image_index), 'jpeg')\n",
    "        \n",
    "        \n",
    "    def converter_train(self):\n",
    "        orderedDictList = []\n",
    "\n",
    "        for index, url in enumerate(self.srcUrl):\n",
    "            try:\n",
    "                self.dl_cvt_Image(url, index)   \n",
    "\n",
    "                od = OrderedDict()\n",
    "                txt_index = '{}_{}'.format(self.labels[self.label], index)\n",
    "\n",
    "                od['pic_num'] = txt_index \n",
    "                od['article'] = self.articles[index]\n",
    "\n",
    "                orderedDictList.append(od)           \n",
    "                self.df = pd.DataFrame(orderedDictList, columns=list([items.keys() for items in orderedDictList][0]))\n",
    "            \n",
    "            except error.URLError as e:\n",
    "                print(e.args)\n",
    "                pass\n",
    "            except error.HTTPError as e:\n",
    "                print(e.code)\n",
    "                pass\n",
    "            finally:\n",
    "                time.sleep(0.3)\n",
    "          \n",
    "        \n",
    "    def converter_test(self):\n",
    "        for index, url in enumerate(self.srcUrl):\n",
    "            try:\n",
    "                self.dl_cvt_Image(url, index)\n",
    "            except error.URLError as e:\n",
    "                print(e.args)\n",
    "                pass\n",
    "            except error.HTTPError as e:\n",
    "                print(e.code)\n",
    "                pass\n",
    "            finally:\n",
    "                time.sleep(0.3)"
   ]
  },
  {
   "cell_type": "markdown",
   "metadata": {},
   "source": [
    "##  Get 4 label page urls with 4 Threads"
   ]
  },
  {
   "cell_type": "code",
   "execution_count": 5,
   "metadata": {
    "collapsed": true
   },
   "outputs": [],
   "source": [
    "#make each Label class instances\n",
    "labels = {}\n",
    "\n",
    "labels['bathroom'] = Labels('bathroom')\n",
    "labels['bedroom'] = Labels('bedroom')\n",
    "labels['kitchen'] = Labels('kitchen')\n",
    "labels['livingroom'] = Labels('livingroom')"
   ]
  },
  {
   "cell_type": "code",
   "execution_count": 6,
   "metadata": {
    "collapsed": true
   },
   "outputs": [],
   "source": [
    "def run_label(label):\n",
    "    label.get_page_urls()\n",
    "    \n",
    "threads =[]\n",
    "for label in labels.values():\n",
    "    t = threading.Thread(target=run_label, args=(label,))\n",
    "    threads.append(t)\n",
    "    t.start()\n",
    "\n",
    "for t in threads:\n",
    "    t.join()\n",
    "                         "
   ]
  },
  {
   "cell_type": "code",
   "execution_count": 7,
   "metadata": {
    "collapsed": true
   },
   "outputs": [],
   "source": [
    "bathroom_pages = labels['bathroom'].urls\n",
    "bedroom_pages = labels['bedroom'].urls\n",
    "kitchen_pages = labels['kitchen'].urls\n",
    "living_pages = labels['livingroom'].urls"
   ]
  },
  {
   "cell_type": "markdown",
   "metadata": {},
   "source": [
    "### Result"
   ]
  },
  {
   "cell_type": "code",
   "execution_count": 8,
   "metadata": {},
   "outputs": [
    {
     "name": "stdout",
     "output_type": "stream",
     "text": [
      "140\n",
      "140\n",
      "140\n",
      "140\n"
     ]
    }
   ],
   "source": [
    "print(len(bathroom_pages))\n",
    "print(len(bedroom_pages))\n",
    "print(len(kitchen_pages))\n",
    "print(len(living_pages))"
   ]
  },
  {
   "cell_type": "markdown",
   "metadata": {},
   "source": [
    "## Get article text and image url from 120 page urls on each label"
   ]
  },
  {
   "cell_type": "code",
   "execution_count": 9,
   "metadata": {
    "collapsed": true
   },
   "outputs": [],
   "source": [
    "resources = {}\n",
    "\n",
    "resources['bathroom'] = Resource(bathroom_pages)\n",
    "resources['bedroom'] = Resource(bedroom_pages)\n",
    "resources['kitchen'] = Resource(kitchen_pages)\n",
    "resources['livingroom'] = Resource(living_pages)"
   ]
  },
  {
   "cell_type": "code",
   "execution_count": 10,
   "metadata": {
    "collapsed": true,
    "scrolled": true
   },
   "outputs": [],
   "source": [
    "def run_resource(resource):\n",
    "    resource.get_imgUrl_text()\n",
    "    \n",
    "threads =[]\n",
    "for resource in resources.values():\n",
    "    t = threading.Thread(target=run_resource, args=(resource,))\n",
    "    threads.append(t)\n",
    "    t.start()\n",
    "\n",
    "for t in threads:\n",
    "    t.join()"
   ]
  },
  {
   "cell_type": "markdown",
   "metadata": {},
   "source": [
    "### results"
   ]
  },
  {
   "cell_type": "code",
   "execution_count": 11,
   "metadata": {
    "scrolled": true
   },
   "outputs": [
    {
     "name": "stdout",
     "output_type": "stream",
     "text": [
      "1336 1336 14\n"
     ]
    }
   ],
   "source": [
    "bath_articles = resources['bathroom'].articles\n",
    "bath_train = resources['bathroom'].train_src\n",
    "bath_test = resources['bathroom'].test_src\n",
    "print(len(bath_articles), len(bath_train), len(bath_test))"
   ]
  },
  {
   "cell_type": "code",
   "execution_count": 12,
   "metadata": {},
   "outputs": [
    {
     "name": "stdout",
     "output_type": "stream",
     "text": [
      "1259 1259 14\n"
     ]
    }
   ],
   "source": [
    "bed_articles = resources['bedroom'].articles\n",
    "bed_train = resources['bedroom'].train_src\n",
    "bed_test = resources['bedroom'].test_src\n",
    "print(len(bed_articles), len(bed_train), len(bed_test))"
   ]
  },
  {
   "cell_type": "code",
   "execution_count": 13,
   "metadata": {},
   "outputs": [
    {
     "name": "stdout",
     "output_type": "stream",
     "text": [
      "1478 1478 20\n"
     ]
    }
   ],
   "source": [
    "kit_articles = resources['kitchen'].articles\n",
    "kit_train = resources['kitchen'].train_src\n",
    "kit_test = resources['kitchen'].test_src\n",
    "print(len(kit_articles), len(kit_train), len(kit_test))"
   ]
  },
  {
   "cell_type": "code",
   "execution_count": 14,
   "metadata": {},
   "outputs": [
    {
     "name": "stdout",
     "output_type": "stream",
     "text": [
      "1078 1078 112\n"
     ]
    }
   ],
   "source": [
    "liv_articles = resources['livingroom'].articles\n",
    "liv_train = resources['livingroom'].train_src\n",
    "liv_test = resources['livingroom'].test_src\n",
    "print(len(liv_articles), len(liv_train), len(liv_test))"
   ]
  },
  {
   "cell_type": "markdown",
   "metadata": {},
   "source": [
    "## Download image and convert text to dataframe from each resources over 1k"
   ]
  },
  {
   "cell_type": "code",
   "execution_count": 15,
   "metadata": {
    "collapsed": true
   },
   "outputs": [],
   "source": [
    "converters = {}\n",
    "#label, srcUrl, srcType, articles\n",
    "converters['bathroom_train'] = Convert('bathroom', bath_train, 'train', bath_articles)\n",
    "converters['bathroom_test'] = Convert('bathroom', bath_test, 'test')\n",
    "\n",
    "converters['bedroom_train'] = Convert('bedroom', bed_train, 'train', bed_articles)\n",
    "converters['bedroom_test'] = Convert('bedroom', bed_test, 'test')\n",
    "\n",
    "converters['kitchen_train'] = Convert('kitchen', kit_train, 'train', kit_articles)\n",
    "converters['kitchen_test'] = Convert('kitchen', kit_test, 'test')\n",
    "\n",
    "converters['livingroom_train'] = Convert('livingroom', liv_train, 'train', liv_articles)\n",
    "converters['livingroom_test'] = Convert('livingroom', liv_test, 'test')"
   ]
  },
  {
   "cell_type": "code",
   "execution_count": 16,
   "metadata": {
    "collapsed": true,
    "scrolled": false
   },
   "outputs": [],
   "source": [
    "def run_train(converter):\n",
    "        converter.converter_train()\n",
    "\n",
    "trains = ['bathroom_train', 'bedroom_train', 'kitchen_train', 'livingroom_train']\n",
    "train_converters = [converters[train] for train in trains]\n",
    "                    \n",
    "threads =[]\n",
    "\n",
    "for converter in train_converters:\n",
    "    t = threading.Thread(target=run_train, args=(converter,))\n",
    "    threads.append(t)\n",
    "    t.start()\n",
    "    \n",
    "time.sleep(0.3)\n",
    "\n",
    "for t in threads:\n",
    "    t.join()\n",
    "    "
   ]
  },
  {
   "cell_type": "code",
   "execution_count": 17,
   "metadata": {
    "collapsed": true,
    "scrolled": true
   },
   "outputs": [],
   "source": [
    "def run_test(converter):\n",
    "    converter.converter_test()\n",
    "\n",
    "tests = ['bathroom_test', 'bedroom_test', 'kitchen_test', 'livingroom_test']\n",
    "\n",
    "threads =[]    \n",
    "    \n",
    "for test in tests:\n",
    "    t = threading.Thread(target=run_test, args=(converters[test],))\n",
    "    threads.append(t)\n",
    "    t.start()\n",
    "\n",
    "for t in threads:\n",
    "    t.join()"
   ]
  },
  {
   "cell_type": "markdown",
   "metadata": {},
   "source": [
    "### result"
   ]
  },
  {
   "cell_type": "code",
   "execution_count": 18,
   "metadata": {
    "scrolled": false
   },
   "outputs": [
    {
     "name": "stdout",
     "output_type": "stream",
     "text": [
      "1336\n"
     ]
    },
    {
     "data": {
      "text/html": [
       "<div>\n",
       "<style>\n",
       "    .dataframe thead tr:only-child th {\n",
       "        text-align: right;\n",
       "    }\n",
       "\n",
       "    .dataframe thead th {\n",
       "        text-align: left;\n",
       "    }\n",
       "\n",
       "    .dataframe tbody tr th {\n",
       "        vertical-align: top;\n",
       "    }\n",
       "</style>\n",
       "<table border=\"1\" class=\"dataframe\">\n",
       "  <thead>\n",
       "    <tr style=\"text-align: right;\">\n",
       "      <th></th>\n",
       "      <th>pic_num</th>\n",
       "      <th>article</th>\n",
       "    </tr>\n",
       "  </thead>\n",
       "  <tbody>\n",
       "    <tr>\n",
       "      <th>1331</th>\n",
       "      <td>0_1331</td>\n",
       "      <td>바닥소재2-라미네이트</td>\n",
       "    </tr>\n",
       "    <tr>\n",
       "      <th>1332</th>\n",
       "      <td>0_1332</td>\n",
       "      <td>창문</td>\n",
       "    </tr>\n",
       "    <tr>\n",
       "      <th>1333</th>\n",
       "      <td>0_1333</td>\n",
       "      <td>라디에이터</td>\n",
       "    </tr>\n",
       "    <tr>\n",
       "      <th>1334</th>\n",
       "      <td>0_1334</td>\n",
       "      <td>습기 제거 방법!</td>\n",
       "    </tr>\n",
       "    <tr>\n",
       "      <th>1335</th>\n",
       "      <td>0_1335</td>\n",
       "      <td>건식 욕실</td>\n",
       "    </tr>\n",
       "  </tbody>\n",
       "</table>\n",
       "</div>"
      ],
      "text/plain": [
       "     pic_num      article\n",
       "1331  0_1331  바닥소재2-라미네이트\n",
       "1332  0_1332           창문\n",
       "1333  0_1333        라디에이터\n",
       "1334  0_1334    습기 제거 방법!\n",
       "1335  0_1335        건식 욕실"
      ]
     },
     "execution_count": 18,
     "metadata": {},
     "output_type": "execute_result"
    }
   ],
   "source": [
    "bath_dataFrame = converters['bathroom_train'].df\n",
    "print(len(bath_dataFrame))\n",
    "bath_dataFrame.tail()"
   ]
  },
  {
   "cell_type": "code",
   "execution_count": 19,
   "metadata": {
    "collapsed": true
   },
   "outputs": [],
   "source": [
    "bath_dataFrame.to_csv('text/by_category/bathroom.csv', columns=['pic_num', 'article'], mode='w')"
   ]
  },
  {
   "cell_type": "code",
   "execution_count": 20,
   "metadata": {
    "scrolled": true
   },
   "outputs": [
    {
     "name": "stdout",
     "output_type": "stream",
     "text": [
      "1259\n"
     ]
    },
    {
     "data": {
      "text/html": [
       "<div>\n",
       "<style>\n",
       "    .dataframe thead tr:only-child th {\n",
       "        text-align: right;\n",
       "    }\n",
       "\n",
       "    .dataframe thead th {\n",
       "        text-align: left;\n",
       "    }\n",
       "\n",
       "    .dataframe tbody tr th {\n",
       "        vertical-align: top;\n",
       "    }\n",
       "</style>\n",
       "<table border=\"1\" class=\"dataframe\">\n",
       "  <thead>\n",
       "    <tr style=\"text-align: right;\">\n",
       "      <th></th>\n",
       "      <th>pic_num</th>\n",
       "      <th>article</th>\n",
       "    </tr>\n",
       "  </thead>\n",
       "  <tbody>\n",
       "    <tr>\n",
       "      <th>1254</th>\n",
       "      <td>1_1254</td>\n",
       "      <td>상큼한 침실</td>\n",
       "    </tr>\n",
       "    <tr>\n",
       "      <th>1255</th>\n",
       "      <td>1_1255</td>\n",
       "      <td>나무 안에서 자는 느낌</td>\n",
       "    </tr>\n",
       "    <tr>\n",
       "      <th>1256</th>\n",
       "      <td>1_1256</td>\n",
       "      <td>아이 방의 아늑한 수면 공간</td>\n",
       "    </tr>\n",
       "    <tr>\n",
       "      <th>1257</th>\n",
       "      <td>1_1257</td>\n",
       "      <td>자연 가까이에 둔 침실</td>\n",
       "    </tr>\n",
       "    <tr>\n",
       "      <th>1258</th>\n",
       "      <td>1_1258</td>\n",
       "      <td>지중해식 침실</td>\n",
       "    </tr>\n",
       "  </tbody>\n",
       "</table>\n",
       "</div>"
      ],
      "text/plain": [
       "     pic_num          article\n",
       "1254  1_1254           상큼한 침실\n",
       "1255  1_1255     나무 안에서 자는 느낌\n",
       "1256  1_1256  아이 방의 아늑한 수면 공간\n",
       "1257  1_1257     자연 가까이에 둔 침실\n",
       "1258  1_1258          지중해식 침실"
      ]
     },
     "execution_count": 20,
     "metadata": {},
     "output_type": "execute_result"
    }
   ],
   "source": [
    "bed_dataFrame = converters['bedroom_train'].df\n",
    "print(len(bed_dataFrame))\n",
    "bed_dataFrame.tail()"
   ]
  },
  {
   "cell_type": "code",
   "execution_count": 21,
   "metadata": {
    "collapsed": true
   },
   "outputs": [],
   "source": [
    "bed_dataFrame.to_csv('text/by_category/bedroom.csv', columns=['pic_num', 'article'], mode='w')"
   ]
  },
  {
   "cell_type": "code",
   "execution_count": 22,
   "metadata": {
    "scrolled": false
   },
   "outputs": [
    {
     "name": "stdout",
     "output_type": "stream",
     "text": [
      "1478\n"
     ]
    },
    {
     "data": {
      "text/html": [
       "<div>\n",
       "<style>\n",
       "    .dataframe thead tr:only-child th {\n",
       "        text-align: right;\n",
       "    }\n",
       "\n",
       "    .dataframe thead th {\n",
       "        text-align: left;\n",
       "    }\n",
       "\n",
       "    .dataframe tbody tr th {\n",
       "        vertical-align: top;\n",
       "    }\n",
       "</style>\n",
       "<table border=\"1\" class=\"dataframe\">\n",
       "  <thead>\n",
       "    <tr style=\"text-align: right;\">\n",
       "      <th></th>\n",
       "      <th>pic_num</th>\n",
       "      <th>article</th>\n",
       "    </tr>\n",
       "  </thead>\n",
       "  <tbody>\n",
       "    <tr>\n",
       "      <th>1473</th>\n",
       "      <td>2_1473</td>\n",
       "      <td>5. 낡은 주방 패브릭 제품</td>\n",
       "    </tr>\n",
       "    <tr>\n",
       "      <th>1474</th>\n",
       "      <td>2_1474</td>\n",
       "      <td>7. 사용하지 않는 주방 용품</td>\n",
       "    </tr>\n",
       "    <tr>\n",
       "      <th>1475</th>\n",
       "      <td>2_1475</td>\n",
       "      <td>8. 자리만 차지하는 낡은 주방 칼</td>\n",
       "    </tr>\n",
       "    <tr>\n",
       "      <th>1476</th>\n",
       "      <td>2_1476</td>\n",
       "      <td>9. 주방 미관을 해치는 빈 병 및 캔</td>\n",
       "    </tr>\n",
       "    <tr>\n",
       "      <th>1477</th>\n",
       "      <td>2_1477</td>\n",
       "      <td>10. 필요 이상의 타파웨어</td>\n",
       "    </tr>\n",
       "  </tbody>\n",
       "</table>\n",
       "</div>"
      ],
      "text/plain": [
       "     pic_num                article\n",
       "1473  2_1473        5. 낡은 주방 패브릭 제품\n",
       "1474  2_1474       7. 사용하지 않는 주방 용품\n",
       "1475  2_1475    8. 자리만 차지하는 낡은 주방 칼\n",
       "1476  2_1476  9. 주방 미관을 해치는 빈 병 및 캔\n",
       "1477  2_1477        10. 필요 이상의 타파웨어"
      ]
     },
     "execution_count": 22,
     "metadata": {},
     "output_type": "execute_result"
    }
   ],
   "source": [
    "kit_dataFrame = converters['kitchen_train'].df\n",
    "print(len(kit_dataFrame))\n",
    "kit_dataFrame.tail()"
   ]
  },
  {
   "cell_type": "code",
   "execution_count": 23,
   "metadata": {
    "collapsed": true
   },
   "outputs": [],
   "source": [
    "kit_dataFrame.to_csv('text/by_category/kitchen.csv', columns=['pic_num', 'article'], mode='w')"
   ]
  },
  {
   "cell_type": "code",
   "execution_count": 24,
   "metadata": {
    "scrolled": true
   },
   "outputs": [
    {
     "name": "stdout",
     "output_type": "stream",
     "text": [
      "1078\n"
     ]
    },
    {
     "data": {
      "text/html": [
       "<div>\n",
       "<style>\n",
       "    .dataframe thead tr:only-child th {\n",
       "        text-align: right;\n",
       "    }\n",
       "\n",
       "    .dataframe thead th {\n",
       "        text-align: left;\n",
       "    }\n",
       "\n",
       "    .dataframe tbody tr th {\n",
       "        vertical-align: top;\n",
       "    }\n",
       "</style>\n",
       "<table border=\"1\" class=\"dataframe\">\n",
       "  <thead>\n",
       "    <tr style=\"text-align: right;\">\n",
       "      <th></th>\n",
       "      <th>pic_num</th>\n",
       "      <th>article</th>\n",
       "    </tr>\n",
       "  </thead>\n",
       "  <tbody>\n",
       "    <tr>\n",
       "      <th>1073</th>\n",
       "      <td>3_1073</td>\n",
       "      <td>개방적인 오픈 주방</td>\n",
       "    </tr>\n",
       "    <tr>\n",
       "      <th>1074</th>\n",
       "      <td>3_1074</td>\n",
       "      <td>기존의 틀을 벗어나는 아이템들</td>\n",
       "    </tr>\n",
       "    <tr>\n",
       "      <th>1075</th>\n",
       "      <td>3_1075</td>\n",
       "      <td>공간감을 넓혀주는 천장과 조명 디자인</td>\n",
       "    </tr>\n",
       "    <tr>\n",
       "      <th>1076</th>\n",
       "      <td>3_1076</td>\n",
       "      <td>간접 조명으로 생동감 있게</td>\n",
       "    </tr>\n",
       "    <tr>\n",
       "      <th>1077</th>\n",
       "      <td>3_1077</td>\n",
       "      <td>멋스러운 빈티지 소품들</td>\n",
       "    </tr>\n",
       "  </tbody>\n",
       "</table>\n",
       "</div>"
      ],
      "text/plain": [
       "     pic_num               article\n",
       "1073  3_1073            개방적인 오픈 주방\n",
       "1074  3_1074      기존의 틀을 벗어나는 아이템들\n",
       "1075  3_1075  공간감을 넓혀주는 천장과 조명 디자인\n",
       "1076  3_1076        간접 조명으로 생동감 있게\n",
       "1077  3_1077          멋스러운 빈티지 소품들"
      ]
     },
     "execution_count": 24,
     "metadata": {},
     "output_type": "execute_result"
    }
   ],
   "source": [
    "liv_dataFrame = converters['livingroom_train'].df\n",
    "print(len(liv_dataFrame))\n",
    "liv_dataFrame.tail()"
   ]
  },
  {
   "cell_type": "code",
   "execution_count": 25,
   "metadata": {
    "collapsed": true
   },
   "outputs": [],
   "source": [
    "liv_dataFrame.to_csv('text/by_category/livingroom.csv', columns=['pic_num', 'article'], mode='w')"
   ]
  },
  {
   "cell_type": "markdown",
   "metadata": {},
   "source": [
    "## Export dataFrame to csv file"
   ]
  },
  {
   "cell_type": "code",
   "execution_count": 26,
   "metadata": {
    "scrolled": true
   },
   "outputs": [
    {
     "data": {
      "text/html": [
       "<div>\n",
       "<style>\n",
       "    .dataframe thead tr:only-child th {\n",
       "        text-align: right;\n",
       "    }\n",
       "\n",
       "    .dataframe thead th {\n",
       "        text-align: left;\n",
       "    }\n",
       "\n",
       "    .dataframe tbody tr th {\n",
       "        vertical-align: top;\n",
       "    }\n",
       "</style>\n",
       "<table border=\"1\" class=\"dataframe\">\n",
       "  <thead>\n",
       "    <tr style=\"text-align: right;\">\n",
       "      <th></th>\n",
       "      <th>pic_num</th>\n",
       "      <th>article</th>\n",
       "    </tr>\n",
       "  </thead>\n",
       "  <tbody>\n",
       "    <tr>\n",
       "      <th>5146</th>\n",
       "      <td>3_1073</td>\n",
       "      <td>개방적인 오픈 주방</td>\n",
       "    </tr>\n",
       "    <tr>\n",
       "      <th>5147</th>\n",
       "      <td>3_1074</td>\n",
       "      <td>기존의 틀을 벗어나는 아이템들</td>\n",
       "    </tr>\n",
       "    <tr>\n",
       "      <th>5148</th>\n",
       "      <td>3_1075</td>\n",
       "      <td>공간감을 넓혀주는 천장과 조명 디자인</td>\n",
       "    </tr>\n",
       "    <tr>\n",
       "      <th>5149</th>\n",
       "      <td>3_1076</td>\n",
       "      <td>간접 조명으로 생동감 있게</td>\n",
       "    </tr>\n",
       "    <tr>\n",
       "      <th>5150</th>\n",
       "      <td>3_1077</td>\n",
       "      <td>멋스러운 빈티지 소품들</td>\n",
       "    </tr>\n",
       "  </tbody>\n",
       "</table>\n",
       "</div>"
      ],
      "text/plain": [
       "     pic_num               article\n",
       "5146  3_1073            개방적인 오픈 주방\n",
       "5147  3_1074      기존의 틀을 벗어나는 아이템들\n",
       "5148  3_1075  공간감을 넓혀주는 천장과 조명 디자인\n",
       "5149  3_1076        간접 조명으로 생동감 있게\n",
       "5150  3_1077          멋스러운 빈티지 소품들"
      ]
     },
     "execution_count": 26,
     "metadata": {},
     "output_type": "execute_result"
    }
   ],
   "source": [
    "#concatenate whole dataFrames to one\n",
    "total_df = pd.concat([bath_dataFrame, bed_dataFrame, \n",
    "                        kit_dataFrame, liv_dataFrame], ignore_index=True)\n",
    "\n",
    "total_df.tail()"
   ]
  },
  {
   "cell_type": "code",
   "execution_count": 27,
   "metadata": {
    "collapsed": true
   },
   "outputs": [],
   "source": [
    "#export to csv file\n",
    "total_df.to_csv('text/article.csv', columns=['pic_num', 'article'], mode='w')"
   ]
  },
  {
   "cell_type": "markdown",
   "metadata": {},
   "source": [
    "# Data Preparation done!"
   ]
  }
 ],
 "metadata": {
  "kernelspec": {
   "display_name": "Python 3",
   "language": "python",
   "name": "python3"
  },
  "language_info": {
   "codemirror_mode": {
    "name": "ipython",
    "version": 3
   },
   "file_extension": ".py",
   "mimetype": "text/x-python",
   "name": "python",
   "nbconvert_exporter": "python",
   "pygments_lexer": "ipython3",
   "version": "3.6.4"
  }
 },
 "nbformat": 4,
 "nbformat_minor": 2
}
